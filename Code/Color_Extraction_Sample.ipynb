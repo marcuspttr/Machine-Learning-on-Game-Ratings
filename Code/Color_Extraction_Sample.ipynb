{
 "cells": [
  {
   "cell_type": "code",
   "execution_count": 2,
   "source": [
    "# dependencies\n",
    "import numpy as np \n",
    "import matplotlib.pyplot as plt\n",
    "import pandas as pd\n",
    "from sklearn.cluster import KMeans\n",
    "import cv2\n",
    "import os \n",
    "import requests\n",
    "from math import floor\n",
    "\n",
    "# Read in video game data set\n",
    "df_0 = pd.read_csv(\"data/boris_data.csv\")"
   ],
   "outputs": [],
   "metadata": {}
  },
  {
   "cell_type": "code",
   "execution_count": 3,
   "source": [
    "# clean and get urls \n",
    "almost_clean_df= df_0.drop_duplicates(subset = ['background_image'])\n",
    "clean_df = almost_clean_df.dropna(subset = ['background_image'])\n",
    "\n",
    "print(clean_df.shape)\n",
    "URLS = list(clean_df['background_image'])\n",
    "game_names = list(clean_df['name'])"
   ],
   "outputs": [
    {
     "output_type": "stream",
     "name": "stdout",
     "text": [
      "(23989, 63)\n"
     ]
    }
   ],
   "metadata": {}
  },
  {
   "cell_type": "code",
   "execution_count": 4,
   "source": [
    "# Function does the following work flow:\n",
    "# --------------------------------------\n",
    "# scrape image\n",
    "# imsave the image\n",
    "# read the image with cv2\n",
    "# do the thing on the image with function\n",
    "# delete the image with os.remove()\n",
    "# --------------------------------------\n",
    "\n",
    "# site towards data science guy when putting on git \n",
    "def centroids_from_image_url(url,num_clusters):\n",
    "    \n",
    "    # read in our image from online and download to local computer\n",
    "    r = requests.get(url, allow_redirects=True)\n",
    "    open(\"image_from_internet.jpg\", 'wb').write(r.content)\n",
    "\n",
    "    # read in image for processing\n",
    "    image = cv2.imread(\"image_from_internet.jpg\")\n",
    "    im_rgb = cv2.cvtColor(image,cv2.COLOR_BGR2RGB)\n",
    "        \n",
    "    # SCALE IMAGE\n",
    "    mat = cv2.resize(im_rgb, dsize = (60,60))\n",
    "\n",
    "    # reshape image to pass into K Means \n",
    "    img = mat.reshape((mat.shape[0]*mat.shape[1],3))\n",
    "\n",
    "    # apply kmeans to reshaped image\n",
    "    km = KMeans(n_clusters = num_clusters)\n",
    "    km_to_im = km.fit(img)\n",
    "\n",
    "    # get the clusters\n",
    "    # labels=list(km.labels_)\n",
    "    centroids = km.cluster_centers_\n",
    "    os.remove(\"image_from_internet.jpg\")\n",
    "    \n",
    "\n",
    "    return centroids"
   ],
   "outputs": [],
   "metadata": {}
  },
  {
   "cell_type": "code",
   "execution_count": 16,
   "source": [
    "# check if all URLS are valid with l test run then full URLS list\n",
    "l = [URLS[0], \" http://nosidngsoidngisodngsgsfs.com\",URLS[1]]\n",
    "\n",
    "for u in l:    \n",
    "    try:\n",
    "        r = requests.get(u, allow_redirects=True)\n",
    "        open(\"image_from_internet.jpg\", 'wb').write(r.content)\n",
    "\n",
    "    except:\n",
    "        print(u)"
   ],
   "outputs": [
    {
     "output_type": "stream",
     "name": "stdout",
     "text": [
      " http://nosidngsoidngisodngsgsfs.com\n"
     ]
    }
   ],
   "metadata": {}
  },
  {
   "cell_type": "code",
   "execution_count": 5,
   "source": [
    "# compute centroids column\n",
    "\n",
    "# THIS TAKES 10 HOURS TO RUN \n",
    "centroids_col = [centroids_from_image_url(im_url,5) for im_url in URLS[1:1000]]"
   ],
   "outputs": [],
   "metadata": {}
  },
  {
   "cell_type": "code",
   "execution_count": 5,
   "source": [
    "# game_names = list(df_0['name'])\n",
    "# centroids_dict = {game_names[i]: centroids_from_image_url(URLS[i],5) for i in range(len(URLS))}"
   ],
   "outputs": [],
   "metadata": {}
  },
  {
   "cell_type": "code",
   "execution_count": null,
   "source": [
    "# split into dominant colors to put into data frame FROM DICTIONARY\n",
    "# games_names_to_merge_on = list(centroids_dict.keys())\n",
    "# color_list = list(centroids_dict.values())\n",
    "# color_1 = [color[0] for color in color_list]\n",
    "# color_2 = [color[1] for color in color_list]\n",
    "# color_3 = [color[2] for color in color_list]\n",
    "# color_4 = [color[3] for color in color_list]\n",
    "# color_5 = [color[4] for color in color_list]"
   ],
   "outputs": [],
   "metadata": {}
  },
  {
   "cell_type": "code",
   "execution_count": 6,
   "source": [
    "# split into dominant colors to put into data frame \n",
    "color_1 = [color[0] for color in centroids_col]\n",
    "color_2 = [color[1] for color in centroids_col]\n",
    "color_3 = [color[2] for color in centroids_col]\n",
    "color_4 = [color[3] for color in centroids_col]\n",
    "color_5 = [color[4] for color in centroids_col]"
   ],
   "outputs": [],
   "metadata": {}
  },
  {
   "cell_type": "code",
   "execution_count": 19,
   "source": [
    "def rgb2color(color_list):\n",
    "    n = len(color_list)\n",
    "    \n",
    "    grey_cut_off = 3\n",
    "    black_cut_off = 60\n",
    "    white_cut_off = 240\n",
    "    \n",
    "    for i in range(n):\n",
    "        # generalize very common colors first, being black,white,grey\n",
    "        if floor(color_list[i][0]) < black_cut_off and floor(color_list[i][1]) < black_cut_off and floor(color_list[i][2]) < black_cut_off:\n",
    "            color_list[i] = \"Black\"\n",
    "        elif floor(color_list[i][0]) > white_cut_off and floor(color_list[i][1]) > white_cut_off and floor(color_list[i][2]) > white_cut_off:\n",
    "            color_list[i] = \"White\"\n",
    "        elif floor(color_list[i][2]) == floor(color_list[i][0]) and floor(color_list[i][0]) == floor(color_list[i][2]) and floor(color_list[i][1]) == floor(color_list[i][2]):\n",
    "            color_list[i] = \"Grey\"\n",
    "        elif abs(floor(color_list[i][0])-floor(color_list[i][1])) <= grey_cut_off or abs(floor(color_list[i][0])-floor(color_list[i][2])) <= grey_cut_off or abs(floor(color_list[i][1])-floor(color_list[i][2])) <= grey_cut_off:\n",
    "            color_list[i] = \"Grey\"\n",
    "        \n",
    "        # generalize primary colors \n",
    "        elif floor(color_list[i][1]) > floor(color_list[i][0]) and floor(color_list[i][1]) > floor(color_list[i][2]):\n",
    "            color_list[i] = \"Green/Blue Green/Aqua\"\n",
    "        # elif floor(color_list[i][1]) > floor(color_list[i][0]) and floor(color_list[i][1]) > floor(color_list[i][2]):\n",
    "        #     color_list[i] = \"Blue Green/Aqua\"\n",
    "        elif floor(color_list[i][0]) > floor(color_list[i][2]) and floor(color_list[i][1]) > floor(color_list[i][2]) and floor(color_list[i][0]) > floor(color_list[i][1]):\n",
    "            color_list[i] = \"Orange/Yellow/Brown\"\n",
    "        elif floor(color_list[i][0]) > floor(color_list[i][1]) and floor(color_list[i][0]) > floor(color_list[i][2]):\n",
    "            color_list[i] = \"Red/Pink\"\n",
    "        elif floor(color_list[i][0]) > floor(color_list[i][1]) and floor(color_list[i][2]) > floor(color_list[i][1]):\n",
    "            color_list[i] = \"Purple\"\n",
    "        elif floor(color_list[i][2]) > floor(color_list[i][0]) and floor(color_list[i][2]) > floor(color_list[i][1]):\n",
    "            color_list[i] = \"Blue\"\n",
    "        \n",
    "    return color_list"
   ],
   "outputs": [],
   "metadata": {}
  },
  {
   "cell_type": "code",
   "execution_count": 20,
   "source": [
    "# color_1_string = rgb2color(color_1)\n",
    "# color_2_string = rgb2color(color_2)\n",
    "# color_3_string = rgb2color(color_3)\n",
    "# color_4_string = rgb2color(color_4)\n",
    "# color_5_string = rgb2color(color_5)"
   ],
   "outputs": [],
   "metadata": {}
  },
  {
   "cell_type": "code",
   "execution_count": null,
   "source": [
    "# Data Frame with Game Name to Merge on\n",
    "# top_5_colors_with_name_df = pd.DataFrame({'name':games_names_to_merge_on,'Color_1':color_1_string,'Color_2':color_2_string,'Color_3':color_3_string,'Color_4':color_4_string,'Color_5':color_5_string})\n",
    "# top_5_colors_with_name_df.to_csv(\"Cover_Art_Colors.csv\")"
   ],
   "outputs": [],
   "metadata": {}
  },
  {
   "cell_type": "code",
   "execution_count": null,
   "source": [
    "# Merge Cover_Art_Colors.csv with boris_data.csv\n",
    "# final_df = df_0.merge(top_5_colors_with_name_df, on = 'name')\n",
    "# final_df.to_csv(\"DONE.csv\")"
   ],
   "outputs": [],
   "metadata": {}
  },
  {
   "cell_type": "code",
   "execution_count": 22,
   "source": [
    "# top_5_colors_df = pd.DataFrame({'Color_1':color_1_string,'Color_2':color_2_string,'Color_3':color_3_string,'Color_4':color_4_string,'Color_5':color_5_string})\n",
    "# top_5_colors_df.to_csv(\"done.csv\")"
   ],
   "outputs": [],
   "metadata": {}
  },
  {
   "cell_type": "code",
   "execution_count": 7,
   "source": [
    "top_5_colors_df = pd.DataFrame({'1r':[c[0] for c in color_1],'1g':[c[1] for c in color_1],'1b':[c[2] for c in color_1], \n",
    "                                '2r':[c[0] for c in color_2],'2g':[c[1] for c in color_2],'2b':[c[2] for c in color_2],\n",
    "                                '3r':[c[0] for c in color_3],'3g':[c[1] for c in color_3],'3b':[c[2] for c in color_3],\n",
    "                                '4r':[c[0] for c in color_4],'4g':[c[1] for c in color_4],'4b':[c[2] for c in color_4],\n",
    "                                '5r':[c[0] for c in color_5],'5g':[c[1] for c in color_5],'5b':[c[2] for c in color_5]})\n",
    "top_5_colors_df.to_csv(\"cols_as_rgbs.csv\")\n",
    "top_5_colors_df.head()"
   ],
   "outputs": [
    {
     "output_type": "execute_result",
     "data": {
      "text/plain": [
       "           1r          1g          1b          2r          2g          2b  \\\n",
       "0  252.225197  236.719685  187.570079  202.032070  141.349854   71.580175   \n",
       "1  192.572917  172.437500  128.536458   33.929310   28.586207   23.025862   \n",
       "2  168.184411   92.015209   70.969582  248.391481  211.196755  168.604462   \n",
       "3  238.013807  174.690335   41.810651   38.982528   33.938335   27.974306   \n",
       "4  146.358209  146.072139  146.074627  250.155924  250.155924  250.155924   \n",
       "\n",
       "           3r          3g          3b          4r          4g          4b  \\\n",
       "0  249.965909  209.184441  131.045892  140.576923   65.307692   20.461538   \n",
       "1  141.196911  122.741313   86.528958    3.697745    3.258890    2.798786   \n",
       "2   44.697021   32.943830   38.464681  235.745614  137.581140   94.778509   \n",
       "3  166.365854  208.548063  159.460545  165.079121   53.804396   30.857143   \n",
       "4   14.708148   14.708148   14.708148  208.757840  208.594077  208.608014   \n",
       "\n",
       "           5r          5g          5b  \n",
       "0  218.308442  163.866883   89.957792  \n",
       "1   86.730038   73.893536   52.433460  \n",
       "2  103.002105   60.667368   54.352632  \n",
       "3   44.578512  132.473140  105.456612  \n",
       "4   79.143750   78.609375   78.628125  "
      ],
      "text/html": [
       "<div>\n",
       "<style scoped>\n",
       "    .dataframe tbody tr th:only-of-type {\n",
       "        vertical-align: middle;\n",
       "    }\n",
       "\n",
       "    .dataframe tbody tr th {\n",
       "        vertical-align: top;\n",
       "    }\n",
       "\n",
       "    .dataframe thead th {\n",
       "        text-align: right;\n",
       "    }\n",
       "</style>\n",
       "<table border=\"1\" class=\"dataframe\">\n",
       "  <thead>\n",
       "    <tr style=\"text-align: right;\">\n",
       "      <th></th>\n",
       "      <th>1r</th>\n",
       "      <th>1g</th>\n",
       "      <th>1b</th>\n",
       "      <th>2r</th>\n",
       "      <th>2g</th>\n",
       "      <th>2b</th>\n",
       "      <th>3r</th>\n",
       "      <th>3g</th>\n",
       "      <th>3b</th>\n",
       "      <th>4r</th>\n",
       "      <th>4g</th>\n",
       "      <th>4b</th>\n",
       "      <th>5r</th>\n",
       "      <th>5g</th>\n",
       "      <th>5b</th>\n",
       "    </tr>\n",
       "  </thead>\n",
       "  <tbody>\n",
       "    <tr>\n",
       "      <th>0</th>\n",
       "      <td>252.225197</td>\n",
       "      <td>236.719685</td>\n",
       "      <td>187.570079</td>\n",
       "      <td>202.032070</td>\n",
       "      <td>141.349854</td>\n",
       "      <td>71.580175</td>\n",
       "      <td>249.965909</td>\n",
       "      <td>209.184441</td>\n",
       "      <td>131.045892</td>\n",
       "      <td>140.576923</td>\n",
       "      <td>65.307692</td>\n",
       "      <td>20.461538</td>\n",
       "      <td>218.308442</td>\n",
       "      <td>163.866883</td>\n",
       "      <td>89.957792</td>\n",
       "    </tr>\n",
       "    <tr>\n",
       "      <th>1</th>\n",
       "      <td>192.572917</td>\n",
       "      <td>172.437500</td>\n",
       "      <td>128.536458</td>\n",
       "      <td>33.929310</td>\n",
       "      <td>28.586207</td>\n",
       "      <td>23.025862</td>\n",
       "      <td>141.196911</td>\n",
       "      <td>122.741313</td>\n",
       "      <td>86.528958</td>\n",
       "      <td>3.697745</td>\n",
       "      <td>3.258890</td>\n",
       "      <td>2.798786</td>\n",
       "      <td>86.730038</td>\n",
       "      <td>73.893536</td>\n",
       "      <td>52.433460</td>\n",
       "    </tr>\n",
       "    <tr>\n",
       "      <th>2</th>\n",
       "      <td>168.184411</td>\n",
       "      <td>92.015209</td>\n",
       "      <td>70.969582</td>\n",
       "      <td>248.391481</td>\n",
       "      <td>211.196755</td>\n",
       "      <td>168.604462</td>\n",
       "      <td>44.697021</td>\n",
       "      <td>32.943830</td>\n",
       "      <td>38.464681</td>\n",
       "      <td>235.745614</td>\n",
       "      <td>137.581140</td>\n",
       "      <td>94.778509</td>\n",
       "      <td>103.002105</td>\n",
       "      <td>60.667368</td>\n",
       "      <td>54.352632</td>\n",
       "    </tr>\n",
       "    <tr>\n",
       "      <th>3</th>\n",
       "      <td>238.013807</td>\n",
       "      <td>174.690335</td>\n",
       "      <td>41.810651</td>\n",
       "      <td>38.982528</td>\n",
       "      <td>33.938335</td>\n",
       "      <td>27.974306</td>\n",
       "      <td>166.365854</td>\n",
       "      <td>208.548063</td>\n",
       "      <td>159.460545</td>\n",
       "      <td>165.079121</td>\n",
       "      <td>53.804396</td>\n",
       "      <td>30.857143</td>\n",
       "      <td>44.578512</td>\n",
       "      <td>132.473140</td>\n",
       "      <td>105.456612</td>\n",
       "    </tr>\n",
       "    <tr>\n",
       "      <th>4</th>\n",
       "      <td>146.358209</td>\n",
       "      <td>146.072139</td>\n",
       "      <td>146.074627</td>\n",
       "      <td>250.155924</td>\n",
       "      <td>250.155924</td>\n",
       "      <td>250.155924</td>\n",
       "      <td>14.708148</td>\n",
       "      <td>14.708148</td>\n",
       "      <td>14.708148</td>\n",
       "      <td>208.757840</td>\n",
       "      <td>208.594077</td>\n",
       "      <td>208.608014</td>\n",
       "      <td>79.143750</td>\n",
       "      <td>78.609375</td>\n",
       "      <td>78.628125</td>\n",
       "    </tr>\n",
       "  </tbody>\n",
       "</table>\n",
       "</div>"
      ]
     },
     "metadata": {},
     "execution_count": 7
    }
   ],
   "metadata": {}
  },
  {
   "cell_type": "code",
   "execution_count": 10,
   "source": [
    "df_1000 = clean_df[1:1000]\n",
    "df_1000.to_csv(\"top_1000_from_boris_data.csv\")"
   ],
   "outputs": [],
   "metadata": {}
  },
  {
   "cell_type": "code",
   "execution_count": 9,
   "source": [
    "# df_0['Color 1'] = color_1_string\n",
    "# df_0['Color 2'] = color_2_string\n",
    "# df_0['Color 3'] = color_3_string\n",
    "# df_0['Color 4'] = color_4_string\n",
    "# df_0['Color 5'] = color_5_string"
   ],
   "outputs": [],
   "metadata": {}
  },
  {
   "cell_type": "code",
   "execution_count": null,
   "source": [
    "# add 5 columns to df_0\n",
    "# to_dum_dum = \"df0 WITH COLUMNS\"\n",
    "# dum_dum = pd.get_dummies(to_dum_dum)\n",
    "# dum_dum.to_csv(\"Complete_Data.csv\")"
   ],
   "outputs": [],
   "metadata": {}
  },
  {
   "cell_type": "code",
   "execution_count": 6,
   "source": [
    "# colorDF = pd.read_csv(\"done.csv\")\n",
    "# clean_df['Color 1'] = colorDF['Color_1']\n",
    "# clean_df['Color 2'] = colorDF['Color_2']\n",
    "# clean_df['Color 3'] = colorDF['Color_3']\n",
    "# clean_df['Color 4'] = colorDF['Color_4']\n",
    "# clean_df['Color 5'] = colorDF['Color_5']\n",
    "# clean_df.to_csv(\"Final_Data_w_Colors.csv\")"
   ],
   "outputs": [],
   "metadata": {}
  }
 ],
 "metadata": {
  "orig_nbformat": 4,
  "language_info": {
   "name": "python",
   "version": "3.6.10",
   "mimetype": "text/x-python",
   "codemirror_mode": {
    "name": "ipython",
    "version": 3
   },
   "pygments_lexer": "ipython3",
   "nbconvert_exporter": "python",
   "file_extension": ".py"
  },
  "kernelspec": {
   "name": "python3",
   "display_name": "Python 3.6.10 64-bit ('venv': conda)"
  },
  "interpreter": {
   "hash": "3f6acd4545d008d74b1bc56e0920897854c77ecf9e874c3b3700a6e370b33431"
  }
 },
 "nbformat": 4,
 "nbformat_minor": 2
}