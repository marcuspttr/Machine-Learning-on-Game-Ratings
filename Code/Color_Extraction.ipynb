{
 "cells": [
  {
   "cell_type": "code",
   "execution_count": 1,
   "source": [
    "# dependencies\n",
    "import numpy as np \n",
    "import matplotlib.pyplot as plt\n",
    "import pandas as pd\n",
    "from sklearn.cluster import KMeans\n",
    "import cv2\n",
    "import os \n",
    "import requests\n",
    "from math import floor\n",
    "\n",
    "# Read in video game data set\n",
    "df_0 = pd.read_csv(\"boris_data.csv\")"
   ],
   "outputs": [],
   "metadata": {}
  },
  {
   "cell_type": "code",
   "execution_count": 3,
   "source": [
    "# clean and get urls \n",
    "almost_clean_df= df_0.drop_duplicates(subset = ['background_image'])\n",
    "clean_df = almost_clean_df.dropna(subset = ['background_image'])\n",
    "\n",
    "print(clean_df.shape)\n",
    "URLS = list(clean_df['background_image'])\n",
    "game_names = list(clean_df['name'])"
   ],
   "outputs": [
    {
     "output_type": "stream",
     "name": "stdout",
     "text": [
      "(23989, 63)\n"
     ]
    }
   ],
   "metadata": {}
  },
  {
   "cell_type": "code",
   "execution_count": 4,
   "source": [
    "# Function does the following work flow:\n",
    "# --------------------------------------\n",
    "# scrape image\n",
    "# imsave the image\n",
    "# read the image with cv2\n",
    "# do the thing on the image with function\n",
    "# delete the image with os.remove()\n",
    "# --------------------------------------\n",
    "\n",
    "# site towards data science guy when putting on git \n",
    "def centroids_from_image_url(url,num_clusters):\n",
    "    \n",
    "    # read in our image from online and download to local computer\n",
    "    r = requests.get(url, allow_redirects=True)\n",
    "    open(\"image_from_internet.jpg\", 'wb').write(r.content)\n",
    "\n",
    "    # read in image for processing\n",
    "    image = cv2.imread(\"image_from_internet.jpg\")\n",
    "    im_rgb = cv2.cvtColor(image,cv2.COLOR_BGR2RGB)\n",
    "        \n",
    "    # SCALE IMAGE\n",
    "    mat = cv2.resize(im_rgb, dsize = (60,60))\n",
    "\n",
    "    # reshape image to pass into K Means \n",
    "    img = mat.reshape((mat.shape[0]*mat.shape[1],3))\n",
    "\n",
    "    # apply kmeans to reshaped image\n",
    "    km = KMeans(n_clusters = num_clusters)\n",
    "    km_to_im = km.fit(img)\n",
    "\n",
    "    # get the clusters\n",
    "    # labels=list(km.labels_)\n",
    "    centroids = km.cluster_centers_\n",
    "    os.remove(\"image_from_internet.jpg\")\n",
    "    \n",
    "\n",
    "    return centroids"
   ],
   "outputs": [],
   "metadata": {}
  },
  {
   "cell_type": "code",
   "execution_count": 16,
   "source": [
    "# check if all URLS are valid with l test run then full URLS list\n",
    "l = [URLS[0], \" http://nosidngsoidngisodngsgsfs.com\",URLS[1]]\n",
    "\n",
    "for u in l:    \n",
    "    try:\n",
    "        r = requests.get(u, allow_redirects=True)\n",
    "        open(\"image_from_internet.jpg\", 'wb').write(r.content)\n",
    "\n",
    "    except:\n",
    "        print(u)"
   ],
   "outputs": [
    {
     "output_type": "stream",
     "name": "stdout",
     "text": [
      " http://nosidngsoidngisodngsgsfs.com\n"
     ]
    }
   ],
   "metadata": {}
  },
  {
   "cell_type": "code",
   "execution_count": 17,
   "source": [
    "# compute centroids column\n",
    "\n",
    "# THIS TAKES 10 HOURS TO RUN \n",
    "centroids_col = [centroids_from_image_url(im_url,5) for im_url in URLS]"
   ],
   "outputs": [
    {
     "output_type": "stream",
     "name": "stderr",
     "text": [
      "<ipython-input-15-9cf78c4ffb13>:32: ConvergenceWarning: Number of distinct clusters (1) found smaller than n_clusters (5). Possibly due to duplicate points in X.\n",
      "  km_to_im = km.fit(img)\n",
      "<ipython-input-15-9cf78c4ffb13>:32: ConvergenceWarning: Number of distinct clusters (3) found smaller than n_clusters (5). Possibly due to duplicate points in X.\n",
      "  km_to_im = km.fit(img)\n",
      "<ipython-input-15-9cf78c4ffb13>:32: ConvergenceWarning: Number of distinct clusters (1) found smaller than n_clusters (5). Possibly due to duplicate points in X.\n",
      "  km_to_im = km.fit(img)\n",
      "<ipython-input-15-9cf78c4ffb13>:32: ConvergenceWarning: Number of distinct clusters (1) found smaller than n_clusters (5). Possibly due to duplicate points in X.\n",
      "  km_to_im = km.fit(img)\n",
      "<ipython-input-15-9cf78c4ffb13>:32: ConvergenceWarning: Number of distinct clusters (1) found smaller than n_clusters (5). Possibly due to duplicate points in X.\n",
      "  km_to_im = km.fit(img)\n",
      "<ipython-input-15-9cf78c4ffb13>:32: ConvergenceWarning: Number of distinct clusters (3) found smaller than n_clusters (5). Possibly due to duplicate points in X.\n",
      "  km_to_im = km.fit(img)\n",
      "<ipython-input-15-9cf78c4ffb13>:32: ConvergenceWarning: Number of distinct clusters (2) found smaller than n_clusters (5). Possibly due to duplicate points in X.\n",
      "  km_to_im = km.fit(img)\n"
     ]
    }
   ],
   "metadata": {}
  },
  {
   "cell_type": "code",
   "execution_count": 5,
   "source": [
    "# game_names = list(df_0['name'])\n",
    "# centroids_dict = {game_names[i]: centroids_from_image_url(URLS[i],5) for i in range(len(URLS))}"
   ],
   "outputs": [],
   "metadata": {}
  },
  {
   "cell_type": "code",
   "execution_count": null,
   "source": [
    "# split into dominant colors to put into data frame FROM DICTIONARY\n",
    "# games_names_to_merge_on = list(centroids_dict.keys())\n",
    "# color_list = list(centroids_dict.values())\n",
    "# color_1 = [color[0] for color in color_list]\n",
    "# color_2 = [color[1] for color in color_list]\n",
    "# color_3 = [color[2] for color in color_list]\n",
    "# color_4 = [color[3] for color in color_list]\n",
    "# color_5 = [color[4] for color in color_list]"
   ],
   "outputs": [],
   "metadata": {}
  },
  {
   "cell_type": "code",
   "execution_count": 18,
   "source": [
    "# split into dominant colors to put into data frame \n",
    "color_1 = [color[0] for color in centroids_col]\n",
    "color_2 = [color[1] for color in centroids_col]\n",
    "color_3 = [color[2] for color in centroids_col]\n",
    "color_4 = [color[3] for color in centroids_col]\n",
    "color_5 = [color[4] for color in centroids_col]"
   ],
   "outputs": [],
   "metadata": {}
  },
  {
   "cell_type": "code",
   "execution_count": 19,
   "source": [
    "def rgb2color(color_list):\n",
    "    n = len(color_list)\n",
    "    \n",
    "    grey_cut_off = 3\n",
    "    black_cut_off = 60\n",
    "    white_cut_off = 240\n",
    "    \n",
    "    for i in range(n):\n",
    "        # generalize very common colors first, being black,white,grey\n",
    "        if floor(color_list[i][0]) < black_cut_off and floor(color_list[i][1]) < black_cut_off and floor(color_list[i][2]) < black_cut_off:\n",
    "            color_list[i] = \"Black\"\n",
    "        elif floor(color_list[i][0]) > white_cut_off and floor(color_list[i][1]) > white_cut_off and floor(color_list[i][2]) > white_cut_off:\n",
    "            color_list[i] = \"White\"\n",
    "        elif floor(color_list[i][2]) == floor(color_list[i][0]) and floor(color_list[i][0]) == floor(color_list[i][2]) and floor(color_list[i][1]) == floor(color_list[i][2]):\n",
    "            color_list[i] = \"Grey\"\n",
    "        elif abs(floor(color_list[i][0])-floor(color_list[i][1])) <= grey_cut_off or abs(floor(color_list[i][0])-floor(color_list[i][2])) <= grey_cut_off or abs(floor(color_list[i][1])-floor(color_list[i][2])) <= grey_cut_off:\n",
    "            color_list[i] = \"Grey\"\n",
    "        \n",
    "        # generalize primary colors \n",
    "        elif floor(color_list[i][1]) > floor(color_list[i][0]) and floor(color_list[i][1]) > floor(color_list[i][2]):\n",
    "            color_list[i] = \"Green/Blue Green/Aqua\"\n",
    "        # elif floor(color_list[i][1]) > floor(color_list[i][0]) and floor(color_list[i][1]) > floor(color_list[i][2]):\n",
    "        #     color_list[i] = \"Blue Green/Aqua\"\n",
    "        elif floor(color_list[i][0]) > floor(color_list[i][2]) and floor(color_list[i][1]) > floor(color_list[i][2]) and floor(color_list[i][0]) > floor(color_list[i][1]):\n",
    "            color_list[i] = \"Orange/Yellow/Brown\"\n",
    "        elif floor(color_list[i][0]) > floor(color_list[i][1]) and floor(color_list[i][0]) > floor(color_list[i][2]):\n",
    "            color_list[i] = \"Red/Pink\"\n",
    "        elif floor(color_list[i][0]) > floor(color_list[i][1]) and floor(color_list[i][2]) > floor(color_list[i][1]):\n",
    "            color_list[i] = \"Purple\"\n",
    "        elif floor(color_list[i][2]) > floor(color_list[i][0]) and floor(color_list[i][2]) > floor(color_list[i][1]):\n",
    "            color_list[i] = \"Blue\"\n",
    "        \n",
    "    return color_list"
   ],
   "outputs": [],
   "metadata": {}
  },
  {
   "cell_type": "code",
   "execution_count": 20,
   "source": [
    "color_1_string = rgb2color(color_1)\n",
    "color_2_string = rgb2color(color_2)\n",
    "color_3_string = rgb2color(color_3)\n",
    "color_4_string = rgb2color(color_4)\n",
    "color_5_string = rgb2color(color_5)"
   ],
   "outputs": [],
   "metadata": {}
  },
  {
   "cell_type": "code",
   "execution_count": null,
   "source": [
    "# Data Frame with Game Name to Merge on\n",
    "# top_5_colors_with_name_df = pd.DataFrame({'name':games_names_to_merge_on,'Color_1':color_1_string,'Color_2':color_2_string,'Color_3':color_3_string,'Color_4':color_4_string,'Color_5':color_5_string})\n",
    "# top_5_colors_with_name_df.to_csv(\"Cover_Art_Colors.csv\")"
   ],
   "outputs": [],
   "metadata": {}
  },
  {
   "cell_type": "code",
   "execution_count": null,
   "source": [
    "# Merge Cover_Art_Colors.csv with boris_data.csv\n",
    "# final_df = df_0.merge(top_5_colors_with_name_df, on = 'name')\n",
    "# final_df.to_csv(\"DONE.csv\")"
   ],
   "outputs": [],
   "metadata": {}
  },
  {
   "cell_type": "code",
   "execution_count": 22,
   "source": [
    "top_5_colors_df = pd.DataFrame({'Color_1':color_1_string,'Color_2':color_2_string,'Color_3':color_3_string,'Color_4':color_4_string,'Color_5':color_5_string})\n",
    "top_5_colors_df.to_csv(\"done.csv\")"
   ],
   "outputs": [],
   "metadata": {}
  },
  {
   "cell_type": "code",
   "execution_count": 9,
   "source": [
    "# df_0['Color 1'] = color_1_string\n",
    "# df_0['Color 2'] = color_2_string\n",
    "# df_0['Color 3'] = color_3_string\n",
    "# df_0['Color 4'] = color_4_string\n",
    "# df_0['Color 5'] = color_5_string"
   ],
   "outputs": [],
   "metadata": {}
  },
  {
   "cell_type": "code",
   "execution_count": null,
   "source": [
    "# add 5 columns to df_0\n",
    "# to_dum_dum = \"df0 WITH COLUMNS\"\n",
    "# dum_dum = pd.get_dummies(to_dum_dum)\n",
    "# dum_dum.to_csv(\"Complete_Data.csv\")"
   ],
   "outputs": [],
   "metadata": {}
  },
  {
   "cell_type": "code",
   "execution_count": 6,
   "source": [
    "colorDF = pd.read_csv(\"done.csv\")\n",
    "clean_df['Color 1'] = colorDF['Color_1']\n",
    "clean_df['Color 2'] = colorDF['Color_2']\n",
    "clean_df['Color 3'] = colorDF['Color_3']\n",
    "clean_df['Color 4'] = colorDF['Color_4']\n",
    "clean_df['Color 5'] = colorDF['Color_5']\n",
    "clean_df.to_csv(\"Final_Data_w_Colors.csv\")"
   ],
   "outputs": [],
   "metadata": {}
  }
 ],
 "metadata": {
  "orig_nbformat": 4,
  "language_info": {
   "name": "python",
   "version": "3.8.3",
   "mimetype": "text/x-python",
   "codemirror_mode": {
    "name": "ipython",
    "version": 3
   },
   "pygments_lexer": "ipython3",
   "nbconvert_exporter": "python",
   "file_extension": ".py"
  },
  "kernelspec": {
   "name": "python3",
   "display_name": "Python 3.8.3 64-bit ('base': conda)"
  },
  "interpreter": {
   "hash": "3b2f14ec1f892092573c23443df090b391e6e47fc55f5484814ef358ce94a7e6"
  }
 },
 "nbformat": 4,
 "nbformat_minor": 2
}